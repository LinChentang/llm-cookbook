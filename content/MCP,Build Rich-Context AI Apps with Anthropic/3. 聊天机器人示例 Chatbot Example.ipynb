{
 "cells": [
  {
   "cell_type": "markdown",
   "id": "c5eb73be-0b26-4095-9864-83526f27bb27",
   "metadata": {},
   "source": [
    "# 4. 对话机器人示例 Chatbot Example"
   ]
  },
  {
   "cell_type": "markdown",
   "id": "256a2198-0a1e-4509-8d46-3f0e287e2a74",
   "metadata": {},
   "source": [
    "本节课，我们来熟悉整个课程都会用到的聊天机器人，同时进一步了解工具的定义和使用，课后还要多和机器人聊天哦！"
   ]
  },
  {
   "cell_type": "markdown",
   "id": "df2bf784-6930-40fc-a7d6-f6ed80405f06",
   "metadata": {},
   "source": [
    "## 一、导入必要的库"
   ]
  },
  {
   "cell_type": "code",
   "execution_count": 1,
   "id": "b2521b7e-6480-4396-ba68-12d1a6acb66d",
   "metadata": {},
   "outputs": [],
   "source": [
    "# 首先导入必要的库\n",
    "import arxiv # 本节材料的主要来源是公开在arxiv上的论文\n",
    "import json\n",
    "import os\n",
    "from typing import List\n",
    "from dotenv import load_dotenv # 如果使用导入.env文件的方式记录密钥需要加载这个包\n",
    "import openai"
   ]
  },
  {
   "cell_type": "markdown",
   "id": "23c04e90-cfef-4ca7-b1f0-b80b96ba40ae",
   "metadata": {},
   "source": [
    "## 二、工具代码"
   ]
  },
  {
   "cell_type": "code",
   "execution_count": 2,
   "id": "6cb9232c-2f30-48e0-a3d6-9cd319eebc35",
   "metadata": {},
   "outputs": [],
   "source": [
    "PAPER_DIR = \"papers\""
   ]
  },
  {
   "cell_type": "markdown",
   "id": "31a1fad6-e8d5-4519-a38a-f80f9753882a",
   "metadata": {},
   "source": [
    "第一个使用的工具是用来搜索和我们设定主题相关的arxiv论文的，最后搜索到的内容会以固定的形式保存在一个json文件中(title, authors, summary, paper url and the publication date)\n",
    "但是并不会下载这些文章，json文件会保存在PAPER_DIR目录下。"
   ]
  },
  {
   "cell_type": "code",
   "execution_count": 3,
   "id": "00354d6a-4e2a-47a6-ab1b-7772ae27375d",
   "metadata": {},
   "outputs": [],
   "source": [
    "def search_papers(topic: str, max_results: int = 5) -> List[str]:\n",
    "    # 使用arxiv来搜索论文 \n",
    "    client = arxiv.Client()\n",
    "\n",
    "    # 搜索和我们设定主题最相关的论文\n",
    "    search = arxiv.Search(\n",
    "        query = topic,\n",
    "        max_results = max_results,\n",
    "        sort_by = arxiv.SortCriterion.Relevance\n",
    "    )\n",
    "\n",
    "    papers = client.results(search)\n",
    "    \n",
    "    # 为我们当前的主题创建目录\n",
    "    path = os.path.join(PAPER_DIR, topic.lower().replace(\" \", \"_\"))\n",
    "    os.makedirs(path, exist_ok=True)\n",
    "    \n",
    "    file_path = os.path.join(path, \"papers_info.json\")\n",
    "\n",
    "    # 尝试加载已经找到的论文信息\n",
    "    try:\n",
    "        with open(file_path, \"r\") as json_file:\n",
    "            papers_info = json.load(json_file)\n",
    "    except (FileNotFoundError, json.JSONDecodeError):\n",
    "        papers_info = {}\n",
    "\n",
    "    # 处理找到的每篇论文并添加到paper_info中\n",
    "    paper_ids = []\n",
    "    for paper in papers:\n",
    "        paper_ids.append(paper.get_short_id())\n",
    "        paper_info = {\n",
    "            'title': paper.title,\n",
    "            'authors': [author.name for author in paper.authors],\n",
    "            'summary': paper.summary,\n",
    "            'pdf_url': paper.pdf_url,\n",
    "            'published': str(paper.published.date())\n",
    "        }\n",
    "        papers_info[paper.get_short_id()] = paper_info\n",
    "    \n",
    "    # Save updated papers_info to json file\n",
    "    with open(file_path, \"w\") as json_file:\n",
    "        json.dump(papers_info, json_file, indent=2)\n",
    "    \n",
    "    print(f\"Results are saved in: {file_path}\")\n",
    "    \n",
    "    return paper_ids"
   ]
  },
  {
   "cell_type": "code",
   "execution_count": 4,
   "id": "729a3e1d-2a57-4ee6-8a87-98c09ccc5d8a",
   "metadata": {},
   "outputs": [
    {
     "name": "stdout",
     "output_type": "stream",
     "text": [
      "Results are saved in: papers\\ai\\papers_info.json\n"
     ]
    },
    {
     "data": {
      "text/plain": [
       "['2409.12922v1',\n",
       " '2406.11563v3',\n",
       " '2402.07632v3',\n",
       " '2211.05075v1',\n",
       " '2403.15481v2']"
      ]
     },
     "execution_count": 4,
     "metadata": {},
     "output_type": "execute_result"
    }
   ],
   "source": [
    "search_papers(\"AI\") # 设定想要搜索的论文主题，会返回对应的论文编号"
   ]
  },
  {
   "cell_type": "code",
   "execution_count": 5,
   "id": "07a26dd5-faca-4604-9c23-db322179826e",
   "metadata": {},
   "outputs": [],
   "source": [
    "def extract_info(paper_id: str) -> str:\n",
    "    \"\"\"\n",
    "    在目录中寻找某篇特定文章的信息，\n",
    "    需要使用对应的文章编号（上节返回的内容）来查找，\n",
    "    会返回完整的json列表。\n",
    "    \"\"\"\n",
    " \n",
    "    for item in os.listdir(PAPER_DIR):\n",
    "        item_path = os.path.join(PAPER_DIR, item)\n",
    "        if os.path.isdir(item_path):\n",
    "            file_path = os.path.join(item_path, \"papers_info.json\")\n",
    "            if os.path.isfile(file_path):\n",
    "                try:\n",
    "                    with open(file_path, \"r\") as json_file:\n",
    "                        papers_info = json.load(json_file)\n",
    "                        if paper_id in papers_info:\n",
    "                            return json.dumps(papers_info[paper_id], indent=2)\n",
    "                except (FileNotFoundError, json.JSONDecodeError) as e:\n",
    "                    print(f\"Error reading {file_path}: {str(e)}\")\n",
    "                    continue\n",
    "    \n",
    "    return f\"There's no saved information related to paper {paper_id}.\""
   ]
  },
  {
   "cell_type": "code",
   "execution_count": 6,
   "id": "076865d1-fdc5-4120-a974-c52272d11ca8",
   "metadata": {},
   "outputs": [
    {
     "data": {
      "text/plain": [
       "'{\\n  \"title\": \"AI Thinking: A framework for rethinking artificial intelligence in practice\",\\n  \"authors\": [\\n    \"Denis Newman-Griffis\"\\n  ],\\n  \"summary\": \"Artificial intelligence is transforming the way we work with information\\\\nacross disciplines and practical contexts. A growing range of disciplines are\\\\nnow involved in studying, developing, and assessing the use of AI in practice,\\\\nbut these disciplines often employ conflicting understandings of what AI is and\\\\nwhat is involved in its use. New, interdisciplinary approaches are needed to\\\\nbridge competing conceptualisations of AI in practice and help shape the future\\\\nof AI use. I propose a novel conceptual framework called AI Thinking, which\\\\nmodels key decisions and considerations involved in AI use across disciplinary\\\\nperspectives. The AI Thinking model addresses five practice-based competencies\\\\ninvolved in applying AI in context: motivating AI use in information processes,\\\\nformulating AI methods, assessing available tools and technologies, selecting\\\\nappropriate data, and situating AI in the sociotechnical contexts it is used\\\\nin. A hypothetical case study is provided to illustrate the application of AI\\\\nThinking in practice. This article situates AI Thinking in broader\\\\ncross-disciplinary discourses of AI, including its connections to ongoing\\\\ndiscussions around AI literacy and AI-driven innovation. AI Thinking can help\\\\nto bridge divides between academic disciplines and diverse contexts of AI use,\\\\nand to reshape the future of AI in practice.\",\\n  \"pdf_url\": \"http://arxiv.org/pdf/2409.12922v1\",\\n  \"published\": \"2024-08-26\"\\n}'"
      ]
     },
     "execution_count": 6,
     "metadata": {},
     "output_type": "execute_result"
    }
   ],
   "source": [
    "extract_info('2409.12922v1') # 可以修改为任意需要的文章编号"
   ]
  },
  {
   "cell_type": "code",
   "execution_count": 7,
   "id": "453dcf89-25be-4c2a-929f-cda34ad06616",
   "metadata": {},
   "outputs": [],
   "source": [
    "# 这里是一个完整的工具定义，包含两个工具示例\n",
    "tools = [\n",
    "    {\n",
    "        \"name\": \"search_papers\", # 工具命名\n",
    "        \"description\": \"Search for papers on arXiv based on a topic and store their information.\", # 描述工具的作用\n",
    "        \"input_schema\": { # 规定输入的格式\n",
    "            \"type\": \"object\",\n",
    "            \"properties\": {\n",
    "                \"topic\": {\n",
    "                    \"type\": \"string\",\n",
    "                    \"description\": \"The topic to search for\"\n",
    "                }, \n",
    "                \"max_results\": {\n",
    "                    \"type\": \"integer\",\n",
    "                    \"description\": \"Maximum number of results to retrieve\",\n",
    "                    \"default\": 5\n",
    "                }\n",
    "            },\n",
    "            \"required\": [\"topic\"]\n",
    "        }\n",
    "    },\n",
    "    {\n",
    "        \"name\": \"extract_info\",\n",
    "        \"description\": \"Search for information about a specific paper across all topic directories.\",\n",
    "        \"input_schema\": {\n",
    "            \"type\": \"object\",\n",
    "            \"properties\": {\n",
    "                \"paper_id\": {\n",
    "                    \"type\": \"string\",\n",
    "                    \"description\": \"The ID of the paper to look for\"\n",
    "                }\n",
    "            },\n",
    "            \"required\": [\"paper_id\"]\n",
    "        }\n",
    "    }\n",
    "]"
   ]
  },
  {
   "cell_type": "code",
   "execution_count": 8,
   "id": "65c5551e-3a68-4494-98d5-be60d7d576f2",
   "metadata": {},
   "outputs": [],
   "source": [
    "mapping_tool_function = {\n",
    "    \"search_papers\": search_papers,\n",
    "    \"extract_info\": extract_info\n",
    "}\n",
    "\n",
    "# 编写工具实现的逻辑\n",
    "def execute_tool(tool_name, tool_args):\n",
    "    \n",
    "    result = mapping_tool_function[tool_name](**tool_args)\n",
    "\n",
    "    if result is None:\n",
    "        result = \"操作已经完成但没有任何结果。\"\n",
    "        \n",
    "    elif isinstance(result, list):\n",
    "        result = ', '.join(result)\n",
    "        \n",
    "    elif isinstance(result, dict):\n",
    "        # Convert dictionaries to formatted JSON strings\n",
    "        result = json.dumps(result, indent=2)\n",
    "    \n",
    "    else:\n",
    "        # For any other type, convert using str()\n",
    "        result = str(result)\n",
    "    return result"
   ]
  },
  {
   "cell_type": "markdown",
   "id": "f6f7634f-a552-4756-9b8b-69adb3cc63b5",
   "metadata": {},
   "source": [
    "## 三、聊天机器人代码"
   ]
  },
  {
   "cell_type": "code",
   "execution_count": 9,
   "id": "cf7109ad-49a8-42b5-90c0-cc57fad8e55d",
   "metadata": {},
   "outputs": [],
   "source": [
    "from openai import OpenAI\n",
    "\n",
    "# 指向 DeepSeek 的 API 地址因为deepseek兼容openai的调用方式，可以直接使用openai的库\n",
    "client = OpenAI(\n",
    "    api_key=\"sk-hjjjmxuugiiybzffneckhpmngqeqzojtxyeywvhxaniilfcn\",  # 替换为你的密钥\n",
    "    base_url=\"https://api.siliconflow.cn/v1\"  # 这里可以使用任意一家支持deepseek调用的公司对方会提供调用的地址\n",
    ")\n"
   ]
  },
  {
   "cell_type": "code",
   "execution_count": 10,
   "id": "7a4742b2-fb0b-48a3-9d45-c2afaf76bec9",
   "metadata": {},
   "outputs": [],
   "source": [
    "def process_query(query):\n",
    "    \n",
    "    messages = [{'role': 'user', 'content': query}]\n",
    "    \n",
    "    response = client.messages.create(max_tokens = 2024,\n",
    "                                  model = 'deepseek-ai/DeepSeek-V2.5', # 这里替换成你需要的模型\n",
    "                                  tools = tools,\n",
    "                                  messages = messages)\n",
    "    \n",
    "    process_query = True\n",
    "    while process_query:\n",
    "        assistant_content = []\n",
    "\n",
    "        for content in response.content:\n",
    "            if content.type == 'text':\n",
    "                \n",
    "                print(content.text)\n",
    "                assistant_content.append(content)\n",
    "                \n",
    "                if len(response.content) == 1:\n",
    "                    process_query = False\n",
    "            \n",
    "            elif content.type == 'tool_use':\n",
    "                \n",
    "                assistant_content.append(content)\n",
    "                messages.append({'role': 'assistant', 'content': assistant_content})\n",
    "                \n",
    "                tool_id = content.id\n",
    "                tool_args = content.input\n",
    "                tool_name = content.name\n",
    "                print(f\"Calling tool {tool_name} with args {tool_args}\")\n",
    "                \n",
    "                result = execute_tool(tool_name, tool_args)\n",
    "                messages.append({\"role\": \"user\", \n",
    "                                  \"content\": [\n",
    "                                      {\n",
    "                                          \"type\": \"tool_result\",\n",
    "                                          \"tool_use_id\": tool_id,\n",
    "                                          \"content\": result\n",
    "                                      }\n",
    "                                  ]\n",
    "                                })\n",
    "               \n",
    "                response = client.chat.completions.create(\n",
    "                                    model = \"deepseek-ai/DeepSeek-V2.5\", # 这里替换成你需要的模型\n",
    "                                    tools = tools,\n",
    "                                    messages = messages\n",
    "                )\n",
    "                \n",
    "                if len(response.content) == 1 and response.content[0].type == \"text\":\n",
    "                    print(response.content[0].text)\n",
    "                    process_query = False"
   ]
  },
  {
   "cell_type": "code",
   "execution_count": 11,
   "id": "06258626-f7e4-4593-8b5f-297f2d8a4f27",
   "metadata": {},
   "outputs": [],
   "source": [
    "def chat_loop():\n",
    "    print(\"输入你的问题，或者输入“退出”来退出\")\n",
    "    while True:\n",
    "        try:\n",
    "            query = input(\"\\n问题: \").strip()\n",
    "            if query.lower() == '退出':\n",
    "                break\n",
    "    \n",
    "            process_query(query)\n",
    "            print(\"\\n\")\n",
    "        except Exception as e:\n",
    "            print(f\"\\nError: {str(e)}\")"
   ]
  },
  {
   "cell_type": "code",
   "execution_count": 12,
   "id": "1e1aff6c-e372-4c8c-81d9-980f58094406",
   "metadata": {},
   "outputs": [
    {
     "name": "stdout",
     "output_type": "stream",
     "text": [
      "输入你的问题，或者输入“退出”来退出\n"
     ]
    },
    {
     "name": "stdin",
     "output_type": "stream",
     "text": [
      "\n",
      "问题:  退出\n"
     ]
    }
   ],
   "source": [
    "chat_loop()"
   ]
  }
 ],
 "metadata": {
  "kernelspec": {
   "display_name": "cyclegan",
   "language": "python",
   "name": "your_env_name"
  },
  "language_info": {
   "codemirror_mode": {
    "name": "ipython",
    "version": 3
   },
   "file_extension": ".py",
   "mimetype": "text/x-python",
   "name": "python",
   "nbconvert_exporter": "python",
   "pygments_lexer": "ipython3",
   "version": "3.13.0"
  }
 },
 "nbformat": 4,
 "nbformat_minor": 5
}
