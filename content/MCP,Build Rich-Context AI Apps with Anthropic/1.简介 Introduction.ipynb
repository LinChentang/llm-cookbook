{
 "cells": [
  {
   "cell_type": "markdown",
   "id": "65720f89-9895-4829-9719-f90c656f5e58",
   "metadata": {},
   "source": [
    "# 1.简介 Introduction"
   ]
  },
  {
   "cell_type": "markdown",
   "id": "0b2de4d2-c4ab-4cb9-b164-2f1332dc30f9",
   "metadata": {},
   "source": [
    "欢迎来到 MCP: Build Rich-Context AI Apps with Anthropic built in partnership with Anthropic 课程,\n",
    "本课程由Anthropic的技术总监Elie Schoppik讲授，在这个课程中，我们将会学习到MCP的核心概念并学会如何在你的AI应用中使用MCP。\n",
    "\n",
    "MCP（Model Context Protocol)是一种开放协议, 它从根据和数据资源方面，为LLM应用程序如何基于客户端-服务器架构获取上下文进行了标准化。\n",
    "它定义了托管在你的AI应用中的MCP客户端，如何与为你的应用程序提供工具、数据资源和提示模板的MCP服务器进行通信。\n",
    "\n",
    "Anthropic在2024年11月提出MCP，此后MCP的生态发展迅速。其生态系统由开源社区以及Antropic的MCP团队共同建设，目前的MCP服务数量不断增加。\n",
    "MCP最初来自于Anthropic的一个内部项目，他们发现MCP可以使Claude Desktop与本地文件系统或其他外部系统交互，并且在很多类似的AI应用中都有作用。\n",
    "它与具体的模型无关，主要是为了集成到不同的应用程序中。假设我们需要构建一个研究助手代理，那么这个代理就需要和Github代码库、GoogleDrive等多个应用进行交互，\n",
    "甚至需要和本地的文件或系统通信。MCP让你可以直接连接到这些服务而无需额外的代码，该服务可以提供工具定义，还会提供处理工具的执行。\n",
    "\n",
    "后续的课程内容安排如下：\n",
    "1. 简介\n",
    "2. 为什么是MCP\n",
    "3. MCP的架构\n",
    "4. 聊天机器人示例\n",
    "5. 创建MCP服务器\n",
    "6. 创建MCP客户端\n",
    "7. 把MCP聊天机器人来连接到参考服务器\n",
    "8. 添加提示词和资源功能\n",
    "9. 为Claude Desktop设置服务器\n",
    "10. 创建和部署远程服务器\n",
    "\n",
    "接下来就让我们一起开启愉快的学习之旅吧！！！\n",
    "\n"
   ]
  }
 ],
 "metadata": {
  "kernelspec": {
   "display_name": "Python 3 (ipykernel)",
   "language": "python",
   "name": "python3"
  },
  "language_info": {
   "codemirror_mode": {
    "name": "ipython",
    "version": 3
   },
   "file_extension": ".py",
   "mimetype": "text/x-python",
   "name": "python",
   "nbconvert_exporter": "python",
   "pygments_lexer": "ipython3",
   "version": "3.10.9"
  }
 },
 "nbformat": 4,
 "nbformat_minor": 5
}
