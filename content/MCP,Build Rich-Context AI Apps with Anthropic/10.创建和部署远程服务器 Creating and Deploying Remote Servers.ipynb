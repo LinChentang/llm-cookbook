{
 "cells": [
  {
   "cell_type": "markdown",
   "id": "7a34fb7e",
   "metadata": {},
   "source": [
    "# 第九章 创建和部署远程服务器"
   ]
  },
  {
   "cell_type": "markdown",
   "id": "01d0d951-fc0a-4184-99a4-8a16c68fa73a",
   "metadata": {},
   "source": [
    "在之前的课程中，我们学习了使用 `stdio` 传输在本地运行服务器。在本课程中，我们将学习如何使用 `FastMCP` 创建一个远程服务器，并使用 MCP inspector 进行测试，然后学习如何将其部署到 `render.com`。\n",
    "我们将重点关注 `sse` 传输。除此之外，我们包含了如何使用 `Streamable HTTP` 实现服务器的一些内容。"
   ]
  },
  {
   "cell_type": "markdown",
   "id": "4b5a513a",
   "metadata": {},
   "source": [
    "## 一、创建远程服务器"
   ]
  },
  {
   "cell_type": "markdown",
   "id": "ad158513-4040-4db3-9ad0-c8cb442b2ffe",
   "metadata": {},
   "source": [
    "通过 `FastMCP` 可以轻松创建一个SSE远程服务器。我们只需要在运行服务器时指定传输为 `sse`。我们还可以在初始化 `FastMCP` 服务器时指定端口号。"
   ]
  },
  {
   "cell_type": "markdown",
   "id": "0017a39c",
   "metadata": {},
   "source": [
    "在开始之前，请安装以下依赖：\n",
    "```sh\n",
    "uv pip install mcp arxiv\n",
    "```"
   ]
  },
  {
   "cell_type": "markdown",
   "id": "441ef53f",
   "metadata": {},
   "source": [
    "接下来创建本地文件夹，将research_server.py文件保存到该文件夹中。\n"
   ]
  },
  {
   "cell_type": "code",
   "execution_count": 1,
   "id": "b3421c3b",
   "metadata": {},
   "outputs": [],
   "source": [
    "%mkdir -p mcp_project"
   ]
  },
  {
   "cell_type": "markdown",
   "id": "c20ef7f7",
   "metadata": {},
   "source": [
    "运行以下代码，将代码保存到mcp_project/research_server.py文件中。"
   ]
  },
  {
   "cell_type": "code",
   "execution_count": 2,
   "id": "501238f4-0609-4222-9092-ed5bd31987d6",
   "metadata": {},
   "outputs": [
    {
     "name": "stdout",
     "output_type": "stream",
     "text": [
      "Overwriting mcp_project/research_server.py\n"
     ]
    }
   ],
   "source": [
    "%%writefile mcp_project/research_server.py\n",
    "import arxiv\n",
    "import json\n",
    "import os\n",
    "from typing import List\n",
    "from mcp.server.fastmcp import FastMCP\n",
    "\n",
    "PAPER_DIR = \"papers\"\n",
    "\n",
    "# 初始化服务器，创建一个名为 research 的 server，并监听 8001 端口\n",
    "mcp = FastMCP(\"research\", port=8001)\n",
    "\n",
    "@mcp.tool()\n",
    "def search_papers(topic: str, max_results: int = 5) -> List[str]:\n",
    "    \"\"\"\n",
    "    根据一个主题搜索arXiv上的论文，并存储他们的信息。\n",
    "    \n",
    "    参数：\n",
    "    - topic: 要搜索的主题\n",
    "    - max_results: 最大结果数（默认：5）\n",
    "    \n",
    "    返回：\n",
    "    - 找到的论文ID列表\n",
    "    \"\"\"\n",
    "    \n",
    "    # 使用 arxiv 搜索论文\n",
    "    client = arxiv.Client()\n",
    "\n",
    "    # 搜索与查询主题最相关的文章\n",
    "    search = arxiv.Search(\n",
    "        query = topic,\n",
    "        max_results = max_results,\n",
    "        sort_by = arxiv.SortCriterion.Relevance\n",
    "    )\n",
    "\n",
    "    papers = client.results(search)\n",
    "    \n",
    "    # 创建目录用于这个主题\n",
    "    path = os.path.join(PAPER_DIR, topic.lower().replace(\" \", \"_\"))\n",
    "    os.makedirs(path, exist_ok=True)\n",
    "    \n",
    "    file_path = os.path.join(path, \"papers_info.json\")\n",
    "\n",
    "    # 尝试加载已有的论文信息\n",
    "    try:\n",
    "        with open(file_path, \"r\") as json_file:\n",
    "            papers_info = json.load(json_file)\n",
    "    except (FileNotFoundError, json.JSONDecodeError):\n",
    "        papers_info = {}\n",
    "\n",
    "    # 处理每个论文并添加到 papers_info\n",
    "    paper_ids = []\n",
    "    for paper in papers:\n",
    "        paper_ids.append(paper.get_short_id())\n",
    "        paper_info = {\n",
    "            'title': paper.title,\n",
    "            'authors': [author.name for author in paper.authors],\n",
    "            'summary': paper.summary,\n",
    "            'pdf_url': paper.pdf_url,\n",
    "            'published': str(paper.published.date())\n",
    "        }\n",
    "        papers_info[paper.get_short_id()] = paper_info\n",
    "    \n",
    "    # 将更新后的 papers_info 保存到 json 文件\n",
    "    with open(file_path, \"w\") as json_file:\n",
    "        json.dump(papers_info, json_file, indent=2)\n",
    "    \n",
    "    print(f\"Results are saved in: {file_path}\")\n",
    "    \n",
    "    return paper_ids\n",
    "\n",
    "@mcp.tool()\n",
    "def extract_info(paper_id: str) -> str:\n",
    "    \"\"\"\n",
    "    从papers目录中提取指定论文ID的详细信息。\n",
    "    \n",
    "    参数：\n",
    "    - paper_id: 要提取信息的论文ID\n",
    "    \n",
    "    返回：\n",
    "    - 如果找到，返回论文的详细信息（JSON字符串）\n",
    "    - 如果未找到，返回错误信息\n",
    "    \"\"\"\n",
    " \n",
    "    for item in os.listdir(PAPER_DIR):\n",
    "        item_path = os.path.join(PAPER_DIR, item)\n",
    "        if os.path.isdir(item_path):\n",
    "            file_path = os.path.join(item_path, \"papers_info.json\")\n",
    "            if os.path.isfile(file_path):\n",
    "                try:\n",
    "                    with open(file_path, \"r\") as json_file:\n",
    "                        papers_info = json.load(json_file)\n",
    "                        if paper_id in papers_info:\n",
    "                            return json.dumps(papers_info[paper_id], indent=2)\n",
    "                except (FileNotFoundError, json.JSONDecodeError) as e:\n",
    "                    print(f\"Error reading {file_path}: {str(e)}\")\n",
    "                    continue\n",
    "    \n",
    "    return f\"There's no saved information related to paper {paper_id}.\"\n",
    "\n",
    "\n",
    "\n",
    "@mcp.resource(\"papers://folders\")\n",
    "def get_available_folders() -> str:\n",
    "    \"\"\"\n",
    "    获取所有可用的主题目录。\n",
    "    \n",
    "    返回：\n",
    "    - 所有主题目录的列表\n",
    "    \"\"\"\n",
    "    folders = []\n",
    "    \n",
    "    # 获取所有主题目录\n",
    "    if os.path.exists(PAPER_DIR):\n",
    "        for topic_dir in os.listdir(PAPER_DIR):\n",
    "            topic_path = os.path.join(PAPER_DIR, topic_dir)\n",
    "            if os.path.isdir(topic_path):\n",
    "                papers_file = os.path.join(topic_path, \"papers_info.json\")\n",
    "                if os.path.exists(papers_file):\n",
    "                    folders.append(topic_dir)\n",
    "    \n",
    "    # 创建一个简单的markdown列表\n",
    "    content = \"# Available Topics\\n\\n\"\n",
    "    if folders:\n",
    "        for folder in folders:\n",
    "            content += f\"- {folder}\\n\"\n",
    "        content += f\"\\nUse @{folder} to access papers in that topic.\\n\"\n",
    "    else:\n",
    "        content += \"No topics found.\\n\"\n",
    "    \n",
    "    return content\n",
    "\n",
    "@mcp.resource(\"papers://{topic}\")\n",
    "def get_topic_papers(topic: str) -> str:\n",
    "    \"\"\"\n",
    "    获取特定主题的论文详细信息。\n",
    "    \n",
    "    参数：\n",
    "    - topic: 要检索论文的主题\n",
    "    \"\"\"\n",
    "    topic_dir = topic.lower().replace(\" \", \"_\")\n",
    "    papers_file = os.path.join(PAPER_DIR, topic_dir, \"papers_info.json\")\n",
    "    \n",
    "    if not os.path.exists(papers_file):\n",
    "        return f\"# No papers found for topic: {topic}\\n\\nTry searching for papers on this topic first.\"\n",
    "    \n",
    "    try:\n",
    "        with open(papers_file, 'r') as f:\n",
    "            papers_data = json.load(f)\n",
    "        \n",
    "        # Create markdown content with paper details\n",
    "        content = f\"# Papers on {topic.replace('_', ' ').title()}\\n\\n\"\n",
    "        content += f\"Total papers: {len(papers_data)}\\n\\n\"\n",
    "        \n",
    "        for paper_id, paper_info in papers_data.items():\n",
    "            content += f\"## {paper_info['title']}\\n\"\n",
    "            content += f\"- **Paper ID**: {paper_id}\\n\"\n",
    "            content += f\"- **Authors**: {', '.join(paper_info['authors'])}\\n\"\n",
    "            content += f\"- **Published**: {paper_info['published']}\\n\"\n",
    "            content += f\"- **PDF URL**: [{paper_info['pdf_url']}]({paper_info['pdf_url']})\\n\\n\"\n",
    "            content += f\"### Summary\\n{paper_info['summary'][:500]}...\\n\\n\"\n",
    "            content += \"---\\n\\n\"\n",
    "        \n",
    "        return content\n",
    "    except json.JSONDecodeError:\n",
    "        return f\"# Error reading papers data for {topic}\\n\\nThe papers data file is corrupted.\"\n",
    "\n",
    "@mcp.prompt()\n",
    "def generate_search_prompt(topic: str, num_papers: int = 5) -> str:\n",
    "    \"\"\"Generate a prompt for Claude to find and discuss academic papers on a specific topic.\"\"\"\n",
    "    return f\"\"\"Search for {num_papers} academic papers about '{topic}' using the search_papers tool. \n",
    "\n",
    "    Follow these instructions:\n",
    "    1. First, search for papers using search_papers(topic='{topic}', max_results={num_papers})\n",
    "    2. For each paper found, extract and organize the following information:\n",
    "       - Paper title\n",
    "       - Authors\n",
    "       - Publication date\n",
    "       - Brief summary of the key findings\n",
    "       - Main contributions or innovations\n",
    "       - Methodologies used\n",
    "       - Relevance to the topic '{topic}'\n",
    "    \n",
    "    3. Provide a comprehensive summary that includes:\n",
    "       - Overview of the current state of research in '{topic}'\n",
    "       - Common themes and trends across the papers\n",
    "       - Key research gaps or areas for future investigation\n",
    "       - Most impactful or influential papers in this area\n",
    "    \n",
    "    4. Organize your findings in a clear, structured format with headings and bullet points for easy readability.\n",
    "    \n",
    "    Please present both detailed information about each paper and a high-level synthesis of the research landscape in {topic}.\"\"\"\n",
    "\n",
    "@mcp.prompt()\n",
    "def generate_search_prompt_cn(topic: str, num_papers: int = 5) -> str:\n",
    "    \"\"\"生成一个中文提示，用于让Claude搜索关于特定主题的学术论文。\"\"\"\n",
    "    return f\"\"\"使用search_papers工具搜索关于'{topic}'的{num_papers}篇学术论文。\n",
    "\n",
    "    请遵循以下指令：\n",
    "    1. 首先，使用search_papers(topic='{topic}', max_results={num_papers})搜索论文\n",
    "    2. 对于每篇找到的论文，提取并组织以下信息：\n",
    "       - 论文标题\n",
    "       - 作者\n",
    "       - 发表日期\n",
    "       - 关键发现摘要\n",
    "       - 主要贡献或创新\n",
    "       - 使用的研究方法\n",
    "       - 与主题'{topic}'的相关性\n",
    "       \n",
    "    3. 提供一个全面的总结，包括：\n",
    "       - '{topic}'当前研究状态的概述\n",
    "       - 论文之间的共同主题和趋势\n",
    "       - 研究差距或未来研究方向\n",
    "       - 该领域最具影响力或影响力的论文\n",
    "    \n",
    "    4. 以清晰、结构化的格式呈现你的发现，使用标题和列表项以便于阅读。\n",
    "\n",
    "    请同时提供每篇论文的详细信息以及{topic}研究领域的整体概述。\n",
    "    \"\"\"\n",
    "    \n",
    "\n",
    "if __name__ == \"__main__\":\n",
    "    # Initialize and run the server\n",
    "    mcp.run(transport='sse')"
   ]
  },
  {
   "cell_type": "markdown",
   "id": "ee3c8c5c-2b04-4a73-aaff-0f98c5594b5c",
   "metadata": {},
   "source": [
    "我们也可以使用FastMCP创建一个远程服务器，使用\"Streamable HTTP\"传输。代码与工具、资源和提示定义相同。但是当我们运行服务器时，需要指定传输为：\n",
    "\n",
    "```python\n",
    "mcp.run(transport=\"streamable-http\")\n",
    "```\n",
    "\n",
    "当初始化FastMCP服务器时，我们有两种选择：\n",
    "\n",
    "```python\n",
    "# 有状态服务器（维护会话状态）\n",
    "mcp = FastMCP(\"research\")\n",
    "\n",
    "# 无状态服务器（无会话持久化）\n",
    "mcp = FastMCP(\"research\", stateless_http=True)\n",
    "```\n",
    "\n",
    "有状态服务器可以用于处理需要记住客户端信息和上下文的多个请求（例如，处理一个工作流中的多个请求）。无状态服务器可以用于处理简单的独立请求（例如，处理一个请求）。"
   ]
  },
  {
   "cell_type": "markdown",
   "id": "eda9378b",
   "metadata": {},
   "source": [
    "## 二、测试SSE远程服务器"
   ]
  },
  {
   "cell_type": "markdown",
   "id": "fe57c66b",
   "metadata": {},
   "source": [
    "在我们创建好文件（位于mcp_project/research_server.py）后，我们可以使用MCP inspector或lesson 5中的简单聊天机器人来测试它，也可以将它与lesson 7中的聊天机器人集成。我们首先需要启动以获取其`URL`，然后将`URL`提供给聊天机器人或MCP inspector。\n",
    "\n",
    "**注意**: 使用`stdio`传输的server是由MCP client作为子进程启动的。而远程server是独立于client运行的进程，需要在client连接到它之前已经运行。"
   ]
  },
  {
   "cell_type": "markdown",
   "id": "cf119130-6071-4129-afd7-5cadc225e171",
   "metadata": {},
   "source": [
    "我们首先需要创建一个单独的环境来运行远程服务器。步骤如下：\n",
    "- 使用`uv init`初始化文件夹，\n",
    "- 创建一个虚拟环境并激活它，\n",
    "- 添加所需的依赖（`uv add arxiv mcp`）。\n",
    "\n",
    "然后，我们可以在终端中运行服务器（`uv run research_server.py`），获得服务器的运行地址。我们需要将这个地址提供给inspector或聊天机器人，在地址末尾添加`/sse`。在第二个终端中，我们需要启动MCP inspector来连接服务器。如果使用Streamable HTPP，则需要在地址末尾添加`/mcp/`。\n",
    "\n",
    "打开终端，运行以下代码：\n",
    "```python\n",
    "python mcp_project/research_server.py\n",
    "```\n",
    "获得如下输出：\n",
    "\n",
    "<img src=\"images/ch10_launch_example.jpg\" weight=\"300\">\n"
   ]
  },
  {
   "cell_type": "code",
   "execution_count": 14,
   "id": "c48ab1c0",
   "metadata": {},
   "outputs": [
    {
     "name": "stdout",
     "output_type": "stream",
     "text": [
      "\u001b[32mINFO\u001b[0m:     Started server process [\u001b[36m40820\u001b[0m]\n",
      "\u001b[32mINFO\u001b[0m:     Waiting for application startup.\n",
      "\u001b[32mINFO\u001b[0m:     Application startup complete.\n",
      "\u001b[32mINFO\u001b[0m:     Uvicorn running on \u001b[1mhttp://127.0.0.1:8001\u001b[0m (Press CTRL+C to quit)\n",
      "^C\n",
      "\u001b[32mINFO\u001b[0m:     Shutting down\n",
      "\u001b[32mINFO\u001b[0m:     Waiting for application shutdown.\n"
     ]
    }
   ],
   "source": [
    "# 注意，该代码块仅做示例，如需运行，请额外打开一个terminal然后运行；\n",
    "# 该代码块运行后会输出服务器地址，之后阻塞，需要手动关闭\n",
    "!python mcp_project/research_server.py"
   ]
  },
  {
   "cell_type": "markdown",
   "id": "f4bb3a47-15be-4d87-b89e-760f1678dd59",
   "metadata": {},
   "source": [
    "### 三、测试服务器"
   ]
  },
  {
   "cell_type": "markdown",
   "id": "fdfe381b",
   "metadata": {},
   "source": [
    "在获得URL链接之后，我们就可以使用MCP inspector或聊天机器人来测试远程服务器。"
   ]
  },
  {
   "cell_type": "markdown",
   "id": "60f8fae8",
   "metadata": {},
   "source": [
    "打开一个新的terminal，保证之前的继续运行不要中断，运行以下代码：\n",
    "```bash\n",
    "npx @modelcontextprotocol/inspector\n",
    "```\n",
    "会得到如下所示输出：\n",
    "```log\n",
    "Need to install the following packages:\n",
    "@modelcontextprotocol/inspector@0.14.0\n",
    "Ok to proceed? (y) y\n",
    "\n",
    "Starting MCP inspector...\n",
    "⚙️ Proxy server listening on port 6277\n",
    "🔍 MCP Inspector is up and running at http://127.0.0.1:6274 🚀\n",
    "\n",
    "```\n",
    "打开terminal中弹出的链接。"
   ]
  },
  {
   "cell_type": "markdown",
   "id": "8d217492-a766-4750-be96-447582279f72",
   "metadata": {},
   "source": [
    "如下是MCP inspector的界面，我们可以在其中输入提示词，并选择不同的模型来测试。"
   ]
  },
  {
   "cell_type": "markdown",
   "id": "68d6a29c-a5ce-470b-8038-caa66ff767af",
   "metadata": {},
   "source": [
    "<img src=\"images/ch10_inspector2.png\" height=\"300\">\n",
    "\n",
    "\n",
    "我们需要设置以下参数：\n",
    "1. `Transport Type` 选择 `SSE`\n",
    "2. `URL` 选择远程服务器地址，该地址以`sse`结尾，是之前运行代码块的输出\n",
    "\n",
    "本地启动后示例如下图：\n",
    "\n",
    "<img src=\"images/ch10_local_example.jpg\" height=\"300\">"
   ]
  },
  {
   "cell_type": "markdown",
   "id": "fb280936-286b-4ff9-a208-f854c66bf46c",
   "metadata": {},
   "source": [
    "## 四、资源\n",
    "\n",
    "- 在CloudFlare上部署远程MCP服务器 [链接](https://developers.cloudflare.com/agents/guides/remote-mcp-server/)\n",
    "- Streamable HTTP传输 [链接](https://github.com/modelcontextprotocol/python-sdk/blob/main/README.md#streamable-http-transport)\n",
    "- 对于使用Streamable HTTP实现的低级服务器，请参阅：\n",
    "    - 有状态服务器：[示例](https://github.com/modelcontextprotocol/python-sdk/tree/main/examples/servers/simple-streamablehttp)\n",
    "    - 无状态服务器：[示例](https://github.com/modelcontextprotocol/python-sdk/tree/main/examples/servers/simple-streamablehttp-stateless)   "
   ]
  }
 ],
 "metadata": {
  "kernelspec": {
   "display_name": "mcp-test",
   "language": "python",
   "name": "python3"
  },
  "language_info": {
   "codemirror_mode": {
    "name": "ipython",
    "version": 3
   },
   "file_extension": ".py",
   "mimetype": "text/x-python",
   "name": "python",
   "nbconvert_exporter": "python",
   "pygments_lexer": "ipython3",
   "version": "3.10.18"
  }
 },
 "nbformat": 4,
 "nbformat_minor": 5
}
